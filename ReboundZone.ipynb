{
 "cells": [
  {
   "attachments": {},
   "cell_type": "markdown",
   "metadata": {},
   "source": [
    "# Rebound Zone - ShotQuality: NCAA Player Location Data & Rebounds\n",
    "\n",
    "This notebook aims to predict probability of offensive rebounding in basketball based on the locations of at when a shot is released. It adapts existing metrics in other sports (such as soccer and hockey), to determine how much control a player has over each area of the court, given the locations of all the players. Combining these two statistics gives the probability for how likely a player or team is to secure a [rebound](https://youtu.be/atr60tR7Emo) at a any spot on the court. \n",
    "\n",
    "## Contents\n",
    "1. [Imports](#section1)\n",
    "2. [Definitions](#section2)\n",
    "3. [Testing and Optimization](#section3)\n",
    "\n"
   ]
  },
  {
   "attachments": {},
   "cell_type": "markdown",
   "metadata": {},
   "source": [
    "___\n",
    "\n",
    "<a id='section1'></a>\n",
    "\n",
    "## <a id='#section1'>1. Imports and Processing</a>\n",
    "\n",
    "This notebook requires the following Python libraries, which we import here:"
   ]
  },
  {
   "cell_type": "code",
   "execution_count": 718,
   "metadata": {},
   "outputs": [],
   "source": [
    "# Sampling shot attempts for optimizing parameters\n",
    "from random import shuffle\n",
    "\n",
    "# Math and data operations\n",
    "import numpy as np\n",
    "import pandas as pd\n",
    "\n",
    "# Data visualization\n",
    "from matplotlib import pyplot as plt\n",
    "import matplotlib.colors as clr\n",
    "import seaborn as sns\n",
    "\n",
    "# Progress bar for loops\n",
    "from tqdm.auto import tqdm\n",
    "\n",
    "# Calculating log loss for parameter optimization\n",
    "from sklearn.metrics import log_loss"
   ]
  },
  {
   "cell_type": "markdown",
   "metadata": {},
   "source": [
    "Then we import the competition data:"
   ]
  },
  {
   "cell_type": "code",
   "execution_count": 719,
   "metadata": {},
   "outputs": [
    {
     "data": {
      "text/html": [
       "<div>\n",
       "<style scoped>\n",
       "    .dataframe tbody tr th:only-of-type {\n",
       "        vertical-align: middle;\n",
       "    }\n",
       "\n",
       "    .dataframe tbody tr th {\n",
       "        vertical-align: top;\n",
       "    }\n",
       "\n",
       "    .dataframe thead th {\n",
       "        text-align: right;\n",
       "    }\n",
       "</style>\n",
       "<table border=\"1\" class=\"dataframe\">\n",
       "  <thead>\n",
       "    <tr style=\"text-align: right;\">\n",
       "      <th></th>\n",
       "      <th>id</th>\n",
       "      <th>court_x</th>\n",
       "      <th>court_y</th>\n",
       "      <th>annotation_code</th>\n",
       "    </tr>\n",
       "  </thead>\n",
       "  <tbody>\n",
       "    <tr>\n",
       "      <th>0</th>\n",
       "      <td>44959</td>\n",
       "      <td>72.807686</td>\n",
       "      <td>37.409669</td>\n",
       "      <td>d1</td>\n",
       "    </tr>\n",
       "    <tr>\n",
       "      <th>1</th>\n",
       "      <td>44959</td>\n",
       "      <td>79.080643</td>\n",
       "      <td>31.477796</td>\n",
       "      <td>d2</td>\n",
       "    </tr>\n",
       "    <tr>\n",
       "      <th>2</th>\n",
       "      <td>44959</td>\n",
       "      <td>69.956321</td>\n",
       "      <td>24.467300</td>\n",
       "      <td>d3</td>\n",
       "    </tr>\n",
       "    <tr>\n",
       "      <th>3</th>\n",
       "      <td>44959</td>\n",
       "      <td>75.468933</td>\n",
       "      <td>13.861763</td>\n",
       "      <td>d4</td>\n",
       "    </tr>\n",
       "    <tr>\n",
       "      <th>4</th>\n",
       "      <td>44959</td>\n",
       "      <td>84.973496</td>\n",
       "      <td>19.254422</td>\n",
       "      <td>d5</td>\n",
       "    </tr>\n",
       "    <tr>\n",
       "      <th>5</th>\n",
       "      <td>44959</td>\n",
       "      <td>69.994331</td>\n",
       "      <td>39.674616</td>\n",
       "      <td>s</td>\n",
       "    </tr>\n",
       "    <tr>\n",
       "      <th>6</th>\n",
       "      <td>44959</td>\n",
       "      <td>82.692421</td>\n",
       "      <td>32.736070</td>\n",
       "      <td>t1</td>\n",
       "    </tr>\n",
       "    <tr>\n",
       "      <th>7</th>\n",
       "      <td>44959</td>\n",
       "      <td>81.741959</td>\n",
       "      <td>17.097372</td>\n",
       "      <td>t2</td>\n",
       "    </tr>\n",
       "    <tr>\n",
       "      <th>8</th>\n",
       "      <td>44959</td>\n",
       "      <td>71.667114</td>\n",
       "      <td>12.603488</td>\n",
       "      <td>t3</td>\n",
       "    </tr>\n",
       "    <tr>\n",
       "      <th>9</th>\n",
       "      <td>44959</td>\n",
       "      <td>58.550842</td>\n",
       "      <td>12.962986</td>\n",
       "      <td>t4</td>\n",
       "    </tr>\n",
       "  </tbody>\n",
       "</table>\n",
       "</div>"
      ],
      "text/plain": [
       "      id    court_x    court_y annotation_code\n",
       "0  44959  72.807686  37.409669              d1\n",
       "1  44959  79.080643  31.477796              d2\n",
       "2  44959  69.956321  24.467300              d3\n",
       "3  44959  75.468933  13.861763              d4\n",
       "4  44959  84.973496  19.254422              d5\n",
       "5  44959  69.994331  39.674616               s\n",
       "6  44959  82.692421  32.736070              t1\n",
       "7  44959  81.741959  17.097372              t2\n",
       "8  44959  71.667114  12.603488              t3\n",
       "9  44959  58.550842  12.962986              t4"
      ]
     },
     "execution_count": 719,
     "metadata": {},
     "output_type": "execute_result"
    }
   ],
   "source": [
    "train_locs = pd.read_csv('train_locs.csv')\n",
    "train_pbp  = pd.read_csv('train_pbp.csv')\n",
    "\n",
    "test_locs = pd.read_csv('test_locs.csv')\n",
    "test_pbp  = pd.read_csv('test_pbp.csv')\n",
    "\n",
    "train_locs.head(10)"
   ]
  },
  {
   "cell_type": "markdown",
   "metadata": {},
   "source": [
    "### Processing"
   ]
  },
  {
   "cell_type": "markdown",
   "metadata": {},
   "source": [
    "While a shooting event can be on either side of the court, we only want to work in a half court setting. Therefore we reflect all players on the right half of the court to be on the left:"
   ]
  },
  {
   "cell_type": "code",
   "execution_count": 720,
   "metadata": {},
   "outputs": [],
   "source": [
    "def mirror(item):\n",
    "    \"\"\" Reflect the x-coordinates of rebounding events to all be in one half of the court\n",
    "\n",
    "    Args:\n",
    "        item: float\n",
    "            The x-coordinate\n",
    "    \n",
    "    Returns:\n",
    "        float\n",
    "            The x-coordinate reflected to be a value less than 47 (half court)\n",
    "    \"\"\"\n",
    "    if item > 47:\n",
    "        item *= -1\n",
    "        item += 94\n",
    "    return item\n",
    "\n",
    "train_locs['court_x'] = train_locs.court_x.apply(mirror)\n",
    "test_locs['court_x'] = test_locs.court_x.apply(mirror)"
   ]
  },
  {
   "cell_type": "markdown",
   "metadata": {},
   "source": [
    "Then, to more easily work with the x- and y-coordinates for the players, we add an additional column to the location tables with (x, y) coordinate pairs:"
   ]
  },
  {
   "cell_type": "code",
   "execution_count": 721,
   "metadata": {},
   "outputs": [
    {
     "data": {
      "text/html": [
       "<div>\n",
       "<style scoped>\n",
       "    .dataframe tbody tr th:only-of-type {\n",
       "        vertical-align: middle;\n",
       "    }\n",
       "\n",
       "    .dataframe tbody tr th {\n",
       "        vertical-align: top;\n",
       "    }\n",
       "\n",
       "    .dataframe thead th {\n",
       "        text-align: right;\n",
       "    }\n",
       "</style>\n",
       "<table border=\"1\" class=\"dataframe\">\n",
       "  <thead>\n",
       "    <tr style=\"text-align: right;\">\n",
       "      <th></th>\n",
       "      <th>id</th>\n",
       "      <th>court_x</th>\n",
       "      <th>court_y</th>\n",
       "      <th>annotation_code</th>\n",
       "      <th>coords</th>\n",
       "    </tr>\n",
       "  </thead>\n",
       "  <tbody>\n",
       "    <tr>\n",
       "      <th>0</th>\n",
       "      <td>44959</td>\n",
       "      <td>21.192314</td>\n",
       "      <td>37.409669</td>\n",
       "      <td>d1</td>\n",
       "      <td>(21.192313999999996, 37.4096687)</td>\n",
       "    </tr>\n",
       "    <tr>\n",
       "      <th>1</th>\n",
       "      <td>44959</td>\n",
       "      <td>14.919357</td>\n",
       "      <td>31.477796</td>\n",
       "      <td>d2</td>\n",
       "      <td>(14.919357450000007, 31.47779611)</td>\n",
       "    </tr>\n",
       "    <tr>\n",
       "      <th>2</th>\n",
       "      <td>44959</td>\n",
       "      <td>24.043679</td>\n",
       "      <td>24.467300</td>\n",
       "      <td>d3</td>\n",
       "      <td>(24.043678580000005, 24.46729953)</td>\n",
       "    </tr>\n",
       "    <tr>\n",
       "      <th>3</th>\n",
       "      <td>44959</td>\n",
       "      <td>18.531067</td>\n",
       "      <td>13.861763</td>\n",
       "      <td>d4</td>\n",
       "      <td>(18.531066600000003, 13.86176256)</td>\n",
       "    </tr>\n",
       "    <tr>\n",
       "      <th>4</th>\n",
       "      <td>44959</td>\n",
       "      <td>9.026504</td>\n",
       "      <td>19.254422</td>\n",
       "      <td>d5</td>\n",
       "      <td>(9.026504220000007, 19.25442219)</td>\n",
       "    </tr>\n",
       "  </tbody>\n",
       "</table>\n",
       "</div>"
      ],
      "text/plain": [
       "      id    court_x    court_y annotation_code  \\\n",
       "0  44959  21.192314  37.409669              d1   \n",
       "1  44959  14.919357  31.477796              d2   \n",
       "2  44959  24.043679  24.467300              d3   \n",
       "3  44959  18.531067  13.861763              d4   \n",
       "4  44959   9.026504  19.254422              d5   \n",
       "\n",
       "                              coords  \n",
       "0   (21.192313999999996, 37.4096687)  \n",
       "1  (14.919357450000007, 31.47779611)  \n",
       "2  (24.043678580000005, 24.46729953)  \n",
       "3  (18.531066600000003, 13.86176256)  \n",
       "4   (9.026504220000007, 19.25442219)  "
      ]
     },
     "execution_count": 721,
     "metadata": {},
     "output_type": "execute_result"
    }
   ],
   "source": [
    "train_locs['coords'] = list(zip(train_locs.court_x,train_locs.court_y))\n",
    "test_locs['coords'] = list(zip(test_locs.court_x,test_locs.court_y))\n",
    "\n",
    "train_locs.head()"
   ]
  },
  {
   "cell_type": "markdown",
   "metadata": {},
   "source": [
    "Lastly, to make sure that the training data is representative of the test data, we look as the distribution of shot attempts for both sets and note the similarities."
   ]
  },
  {
   "cell_type": "code",
   "execution_count": 722,
   "metadata": {},
   "outputs": [
    {
     "data": {
      "image/png": "[encoded data removed]",
      "text/plain": [
       "<Figure size 432x288 with 1 Axes>"
      ]
     },
     "metadata": {
      "needs_background": "light"
     },
     "output_type": "display_data"
    }
   ],
   "source": [
    "# Training\n",
    "H, xedges, yedges = np.histogram2d(train_locs.loc[train_locs.annotation_code=='s'].court_x,train_locs.loc[train_locs.annotation_code=='s'].court_y,bins=50)\n",
    "H=H.T\n",
    "\n",
    "plt.imshow(H, interpolation='nearest', origin='lower',\n",
    "\n",
    "        extent=[xedges[0], xedges[-1], yedges[0], yedges[-1]]);\n"
   ]
  },
  {
   "cell_type": "code",
   "execution_count": 723,
   "metadata": {},
   "outputs": [
    {
     "data": {
      "image/png": "[encoded data removed]",
      "text/plain": [
       "<Figure size 432x288 with 1 Axes>"
      ]
     },
     "metadata": {
      "needs_background": "light"
     },
     "output_type": "display_data"
    }
   ],
   "source": [
    "# Test\n",
    "H, xedges, yedges = np.histogram2d(test_locs.loc[test_locs.annotation_code=='s'].court_x,test_locs.loc[test_locs.annotation_code=='s'].court_y,bins=50)\n",
    "H=H.T\n",
    "\n",
    "plt.imshow(H, interpolation='nearest', origin='lower',\n",
    "\n",
    "        extent=[xedges[0], xedges[-1], yedges[0], yedges[-1]]);\n"
   ]
  },
  {
   "attachments": {},
   "cell_type": "markdown",
   "metadata": {},
   "source": [
    "___\n",
    "\n",
    "<a id='section1'></a>\n",
    "\n",
    "## <a id='#section2'>2. Definitions and Initial Analysis</a>\n",
    "\n",
    "Much of the modeling in this workbook is based upon the research in [Pass Evaluation in Women’s Olympic Hockey](https://arxiv.org/pdf/2205.13678.pdf), which uses a metric called rink control to measure how much a team controls a certain region of the ice. We adapt this metric for use in basketball for the same purpose on the court.\n",
    "\n",
    "First, we define constants to be used throughout the project:"
   ]
  },
  {
   "cell_type": "code",
   "execution_count": 724,
   "metadata": {},
   "outputs": [],
   "source": [
    "# Number of bins to be used for calculations and plotting\n",
    "num_bins = 30\n",
    "\n",
    "# Half-court size constraints\n",
    "max_x, max_y = 47, 50\n",
    "\n",
    "# Constant used in court control formula\n",
    "beta = 2.5"
   ]
  },
  {
   "attachments": {},
   "cell_type": "markdown",
   "metadata": {},
   "source": [
    "Next, we define multiple custom functions that will be used to process and analyze the data. \n",
    "\n",
    "### Court Control\n",
    "\n",
    "The `control` function is our adaptation of the rink control metric. It takes into account all players' locations, and returns the relative control for the teams on each location in an array representing the half-court."
   ]
  },
  {
   "cell_type": "code",
   "execution_count": 725,
   "metadata": {},
   "outputs": [],
   "source": [
    "def control(playerCoords, beta=2.5, def_scale=1):\n",
    "    \"\"\" Calculate the realtive team control of each area in a grid, given the position of each player\n",
    "\n",
    "    Args:\n",
    "        playerCoords: list \n",
    "            list of of (x, y) ordered pairs, respresenting players' locations on the court\n",
    "        beta: float\n",
    "            a parameter to measure the importance of being the the closest player to a location; where β = 0 yields a control equal to the\n",
    "            proportion of offensive team players on the ice and β = ∞ yields a control  of 1 if the closest player belongs to the offensive \n",
    "            team and 0 otherwise\n",
    "        def_scale: float\n",
    "            a parameter to change the inherent rebounding ability of the defense relative to the offense; values lower than 1 increase\n",
    "            modeled rebounding ability\n",
    "    \n",
    "    Returns:\n",
    "        numpy.array \n",
    "            array where each entry represents the relative control of that location on the court, with -1 meaning complete defensive \n",
    "            control and 1 meaning complete offensive control\n",
    "    \"\"\"\n",
    "    \n",
    "    distances = np.zeros(x.shape)\n",
    "    sum = np.zeros(x.shape)\n",
    "\n",
    "    for i, node in enumerate(playerCoords):\n",
    "        distance = np.sqrt((x-node[0])**2 + (y-node[1])**2)\n",
    "        \n",
    "        quantity = distance\n",
    "        if i<=4: # if on defensive team\n",
    "            quantity = quantity**def_scale # scale defensive rebounding ability\n",
    "\n",
    "        sum += (quantity)**(-beta)\n",
    "        if i > 4: # offense\n",
    "            distances = distances + (quantity)**(-beta)\n",
    "        elif i <= 4: # defense\n",
    "            distances = distances - (quantity)**(-beta)\n",
    "    return (distances/sum)\n"
   ]
  },
  {
   "cell_type": "markdown",
   "metadata": {},
   "source": [
    "Let us illustrate the control concept with an example.\n",
    "\n",
    "Control over an area on the court by a given team is strongest around each of their players, and having multiple players in an area extends that control further. This connects to real-world situations, where some teammates would box out to further control space, while other players would be free to grab the rebound. Meanwhile, control is relatively even in areas between players of different teams, as well as at areas far away from any players. This makes sense intutively, as contested rebounds and long rebounds that bounce and roll are often considered 'fifty-fifty balls'."
   ]
  },
  {
   "cell_type": "code",
   "execution_count": 726,
   "metadata": {},
   "outputs": [
    {
     "data": {
      "image/png": "[encoded data removed]",
      "text/plain": [
       "<Figure size 432x288 with 2 Axes>"
      ]
     },
     "metadata": {
      "needs_background": "light"
     },
     "output_type": "display_data"
    }
   ],
   "source": [
    "X = np.linspace(4,max_x,num_bins)\n",
    "Y = np.linspace(0,max_y,num_bins)\n",
    "x, y = np.meshgrid(X,Y)\n",
    "\n",
    "sample_event = train_locs.iloc[:10]\n",
    "ctrl = control(sample_event.coords.to_list())\n",
    "\n",
    "sample_x = [c[0] for c in sample_event.coords]\n",
    "sample_y = [c[1] for c in sample_event.coords]\n",
    "colors = ['r' if i<=4 else 'b' for i in range(10)]\n",
    "\n",
    "plt.pcolormesh(x,y,ctrl,shading='gouraud',cmap='RdBu')\n",
    "plt.colorbar()\n",
    "plt.scatter(sample_x,sample_y,color=colors);"
   ]
  },
  {
   "cell_type": "markdown",
   "metadata": {},
   "source": [
    "### Rebound Distributions\n",
    "\n",
    "Rebounds are not [evenly distributed](https://www.shobix.co.jp/hpm/tempfiles/journal/2009/08J058.pdf) across the court. Therefore, we cannot only use the court control to predict the chance of getting an offensive rebound. \n",
    "\n",
    "The `reboundDist` function is our solution to this, and it is inspired by the scoring probability metric from the previously mentioned hockey research. Instead of scoring probability, this function models the relative chances that a rebound will go to different areas on the court. Since the distribution of rebounds is dependent on the [angle a shot is taken from](https://grantland.com/features/how-rebounds-work/), this function rotates the distribution based on the shooter's location."
   ]
  },
  {
   "cell_type": "code",
   "execution_count": 727,
   "metadata": {},
   "outputs": [],
   "source": [
    "\n",
    "def reboundDist(angle, x_scale=600, y_scale=300):\n",
    "    \"\"\" Calculate the realtive distribution of rebounds in a grid, given the angle between the shooter and the basket\n",
    "\n",
    "    Args:\n",
    "        angle: float \n",
    "            angle between the shooter and the basket, in radians, with 0 being facing the basket from the top of the key\n",
    "        x_scale: float\n",
    "            a parameter to scale the distribution of rebounds from sideline to sideline, with larger values increasing the relative frequency for further distances\n",
    "        y_scale: float\n",
    "            a parameter to scale the distribution of rebounds from the baseline to half-court, with larger values increasing the relative frequency for further distances\n",
    "\n",
    "    \n",
    "    Returns:\n",
    "        numpy.array \n",
    "            array where each entry represents the relative probability that a rebound will land in that location of the court\n",
    "    \"\"\"\n",
    "\n",
    "    rota_x = (x-4)*np.cos(-angle) - (y-25)*np.sin(-angle)\n",
    "    rota_y = (x-4)*np.sin(-angle) + (y-25)*np.cos(-angle)\n",
    "    initial_dist = ((rota_x)**2/x_scale+(rota_y)**2/y_scale)\n",
    "    dist = np.exp(-initial_dist)\n",
    "\n",
    "    return dist/np.sum(dist)"
   ]
  },
  {
   "cell_type": "markdown",
   "metadata": {},
   "source": [
    "A simple visualization of this function is shown below:"
   ]
  },
  {
   "cell_type": "code",
   "execution_count": 728,
   "metadata": {},
   "outputs": [
    {
     "data": {
      "image/png": "[encoded data removed]",
      "text/plain": [
       "<Figure size 432x288 with 2 Axes>"
      ]
     },
     "metadata": {
      "needs_background": "light"
     },
     "output_type": "display_data"
    }
   ],
   "source": [
    "plt.pcolormesh(x,y,reboundDist(np.deg2rad(45)),shading='gouraud',cmap='binary')\n",
    "plt.colorbar();"
   ]
  },
  {
   "cell_type": "markdown",
   "metadata": {},
   "source": [
    "## Offensive Rebound Probability\n",
    "\n",
    "Lastly, we combine the court control and rebound distribution into a final function that will return the predicted probability of an offensive rebound, given the locations of the players on the court.\n",
    "\n",
    "The `offReboundProb` function calculates the court control and scales it from 0 to 1. Then, it calculates the angle between the shooter and the basket (with 0 degrees being facing the basket from the top of the key), as well as the distance the shooter is to the basket. Since the [distance a shot is taken from](https://fansided.com/2020/01/28/nylon-calculus-nba-rebound-tracking/) affects offensive rebounding probabilities, this function adjust the scale of the rebound distribution based on shot distance. Finally, the function multiplies the control by the rebound distribution and sums the entries of the resulting array to return the predicted probability. "
   ]
  },
  {
   "cell_type": "code",
   "execution_count": 729,
   "metadata": {},
   "outputs": [],
   "source": [
    "def offReboundProb(playerCoords, beta=2.5, x_scale=200, y_scale=200, def_scale=1, dist_scale=10):\n",
    "    \"\"\" Calculate the probability that the offensive team will get the rebound, given the location of the players and shooter\n",
    "\n",
    "    Args:\n",
    "        playerCoords: list \n",
    "            list of of (x, y) ordered pairs, respresenting players' locations on the court\n",
    "        beta: float\n",
    "            a parameter to measure the importance of being the the closest player to a location; where β = 0 yields a control equal to the\n",
    "            proportion of offensive team players on the ice and β = ∞ yields a control  of 1 if the closest player belongs to the offensive \n",
    "            team and 0 otherwise\n",
    "        x_scale: float\n",
    "            a parameter to scale the distribution of rebounds from sideline to sideline, with larger values increasing the relative frequency for further distances\n",
    "        y_scale: float\n",
    "            a parameter to scale the distribution of rebounds from the baseline to half-court, with larger values increasing the relative frequency for further distances\n",
    "        def_scale: float\n",
    "            a parameter to change the inherent rebounding ability of the defense relative to the offense; values lower than 1 increase\n",
    "            modeled rebounding ability\n",
    "        dist_scale: float\n",
    "            a parameter to change the relative rebound distribution based on the location of the shooter\n",
    "    \n",
    "    Returns:\n",
    "        float\n",
    "            probability of an offensive rebound\n",
    "    \"\"\"\n",
    "    \n",
    "    prob = (control(playerCoords, beta, def_scale)+1)/2\n",
    "    angle = np.arctan2((playerCoords[5][1]-25), (playerCoords[5][0]-4))\n",
    "    shooter_dist = np.sqrt((playerCoords[5][1]-25)**2 + (playerCoords[5][0]-4)**2)\n",
    "    \n",
    "    return np.sum(reboundDist(angle, x_scale, y_scale*shooter_dist/dist_scale)*prob)"
   ]
  },
  {
   "cell_type": "markdown",
   "metadata": {},
   "source": [
    "So, working with the example used with the control function, and the default parameters, the chance of an offensive rebound is:"
   ]
  },
  {
   "cell_type": "code",
   "execution_count": 730,
   "metadata": {},
   "outputs": [
    {
     "data": {
      "text/plain": [
       "0.4671894741717749"
      ]
     },
     "execution_count": 730,
     "metadata": {},
     "output_type": "execute_result"
    }
   ],
   "source": [
    "offReboundProb(sample_event.coords.to_list())"
   ]
  },
  {
   "attachments": {},
   "cell_type": "markdown",
   "metadata": {},
   "source": [
    "___\n",
    "\n",
    "<a id='section3'></a>\n",
    "\n",
    "## <a id='#section3'>3. Testing and Optimization</a>\n",
    "\n",
    "So far, many of the parameters we have been using in our functions have been estimations using prior knowledge of rebounding and basketball. We aim to verify and/or improve these parameters to reduce the log loss of our predictions. \n",
    "\n",
    "We will be keeping the value of $β = 2.5$, as that has been standard for applications in multiple sports."
   ]
  },
  {
   "cell_type": "markdown",
   "metadata": {},
   "source": [
    "### Rebound Distribution Scaling\n",
    "\n",
    "We aim to find the optimal parameters describing the decay in rebounding probability with respect to the distance from the goal (i.e. the `x_scale` and `y_scale` parameters of the `reboundDist` function). This is done through an iterative process in which for each combination of x and y scale parameters, we sample 1000 shot events from the training data, predict the offensive rebound probabilities for those shots, and then calculate the log loss of our predictions. We use values from 50 to 500 for training the scaling parameters, as this is a realistic range of values based upon our knowledge of basktball and the rebound distribution formula."
   ]
  },
  {
   "cell_type": "code",
   "execution_count": 731,
   "metadata": {},
   "outputs": [
    {
     "data": {
      "application/vnd.jupyter.widget-view+json": {
       "model_id": "13e459a9e67e49c1a77472e54517b199",
       "version_major": 2,
       "version_minor": 0
      },
      "text/plain": [
       "  0%|          | 0/10 [00:00<?, ?it/s]"
      ]
     },
     "metadata": {},
     "output_type": "display_data"
    },
    {
     "data": {
      "application/vnd.jupyter.widget-view+json": {
       "model_id": "8bc7e815d19e4dd3a7e3f7b45c58df0c",
       "version_major": 2,
       "version_minor": 0
      },
      "text/plain": [
       "  0%|          | 0/10 [00:00<?, ?it/s]"
      ]
     },
     "metadata": {},
     "output_type": "display_data"
    },
    {
     "data": {
      "application/vnd.jupyter.widget-view+json": {
       "model_id": "4a14287364cd402998bd857173788533",
       "version_major": 2,
       "version_minor": 0
      },
      "text/plain": [
       "  0%|          | 0/10 [00:00<?, ?it/s]"
      ]
     },
     "metadata": {},
     "output_type": "display_data"
    },
    {
     "data": {
      "application/vnd.jupyter.widget-view+json": {
       "model_id": "fbfd532556514165abe77571715a7485",
       "version_major": 2,
       "version_minor": 0
      },
      "text/plain": [
       "  0%|          | 0/10 [00:00<?, ?it/s]"
      ]
     },
     "metadata": {},
     "output_type": "display_data"
    },
    {
     "data": {
      "application/vnd.jupyter.widget-view+json": {
       "model_id": "8d9fde02207545c4a933679075a843df",
       "version_major": 2,
       "version_minor": 0
      },
      "text/plain": [
       "  0%|          | 0/10 [00:00<?, ?it/s]"
      ]
     },
     "metadata": {},
     "output_type": "display_data"
    },
    {
     "data": {
      "application/vnd.jupyter.widget-view+json": {
       "model_id": "5b87370bface413c964d427d5be300c7",
       "version_major": 2,
       "version_minor": 0
      },
      "text/plain": [
       "  0%|          | 0/10 [00:00<?, ?it/s]"
      ]
     },
     "metadata": {},
     "output_type": "display_data"
    },
    {
     "data": {
      "application/vnd.jupyter.widget-view+json": {
       "model_id": "c07c282541fc487c981a3c6aebc0d560",
       "version_major": 2,
       "version_minor": 0
      },
      "text/plain": [
       "  0%|          | 0/10 [00:00<?, ?it/s]"
      ]
     },
     "metadata": {},
     "output_type": "display_data"
    },
    {
     "data": {
      "application/vnd.jupyter.widget-view+json": {
       "model_id": "2242babf9c6e4b428ccc3c29f3591bbe",
       "version_major": 2,
       "version_minor": 0
      },
      "text/plain": [
       "  0%|          | 0/10 [00:00<?, ?it/s]"
      ]
     },
     "metadata": {},
     "output_type": "display_data"
    },
    {
     "data": {
      "application/vnd.jupyter.widget-view+json": {
       "model_id": "d9d3b62670d84af78d0fee0bf3a80dab",
       "version_major": 2,
       "version_minor": 0
      },
      "text/plain": [
       "  0%|          | 0/10 [00:00<?, ?it/s]"
      ]
     },
     "metadata": {},
     "output_type": "display_data"
    },
    {
     "data": {
      "application/vnd.jupyter.widget-view+json": {
       "model_id": "9db4206a884447b3874f4c0cfff9eda5",
       "version_major": 2,
       "version_minor": 0
      },
      "text/plain": [
       "  0%|          | 0/10 [00:00<?, ?it/s]"
      ]
     },
     "metadata": {},
     "output_type": "display_data"
    },
    {
     "data": {
      "application/vnd.jupyter.widget-view+json": {
       "model_id": "9b7f26bedc88447ebf545b576064981d",
       "version_major": 2,
       "version_minor": 0
      },
      "text/plain": [
       "  0%|          | 0/10 [00:00<?, ?it/s]"
      ]
     },
     "metadata": {},
     "output_type": "display_data"
    }
   ],
   "source": [
    "coords = train_locs.coords.to_list()\n",
    "logloss_outer = []\n",
    "\n",
    "for y_param in tqdm(np.linspace(50,500,10)):\n",
    "    logloss_inner = []\n",
    "    for x_param in tqdm(np.linspace(50,500,10), leave=False):\n",
    "        sample = np.random.permutation(len(train_pbp))[:1000]\n",
    "\n",
    "        train_probs = []\n",
    "        for game in sample:\n",
    "            train_probs.append(offReboundProb(coords[10*game: 10*(game + 1)], 2.5, x_param, y_param))\n",
    "        logloss_inner.append(log_loss(train_pbp.iloc[sample,1],train_probs))\n",
    "    logloss_outer.append(logloss_inner)\n"
   ]
  },
  {
   "cell_type": "markdown",
   "metadata": {},
   "source": [
    "Visualizing the log loss with a heatmap, we can see that as the values of both parameters increase, so does the log loss. However, this increase is greater with the y parameter than it is with the x. With that being said, we will be using 200 for the x-scale and 50 for the y-scale."
   ]
  },
  {
   "cell_type": "code",
   "execution_count": 732,
   "metadata": {},
   "outputs": [
    {
     "data": {
      "image/png": "[encoded data removed]",
      "text/plain": [
       "<Figure size 432x288 with 2 Axes>"
      ]
     },
     "metadata": {
      "needs_background": "light"
     },
     "output_type": "display_data"
    }
   ],
   "source": [
    "ax = sns.heatmap(logloss_outer,xticklabels=np.linspace(50,500,10),yticklabels=np.linspace(50,500,10))\n",
    "ax.set(xlabel='x-scale', ylabel='y-scale');"
   ]
  },
  {
   "cell_type": "markdown",
   "metadata": {},
   "source": [
    "### Defense and Distance Scaling\n",
    "\n",
    "Next, we optimize the for scaling the defense's rebounding ability and for scaling the size of the rebound distribution based on the distance of the shooter from the basket (i.e. the `def_scale` and `dist_scale` parameters of the `offReboundProb` function). We use the smae iterative process as before, but with unique ranges for the defense and distance parameters. The range for the defense parameter should be a value close to 1 becuase we only want minimal scaling, and it will likely be less than 1 based on our understanding that the defense has an advantage when it comes to rebounding. The range for the distance parameter testing is based upon the typical range of shot attempts in basketball."
   ]
  },
  {
   "cell_type": "code",
   "execution_count": 733,
   "metadata": {},
   "outputs": [
    {
     "data": {
      "application/vnd.jupyter.widget-view+json": {
       "model_id": "ce980419a9b04ae188c35b135bb5850c",
       "version_major": 2,
       "version_minor": 0
      },
      "text/plain": [
       "  0%|          | 0/10 [00:00<?, ?it/s]"
      ]
     },
     "metadata": {},
     "output_type": "display_data"
    },
    {
     "data": {
      "application/vnd.jupyter.widget-view+json": {
       "model_id": "cffcd68dc3894d2fa80a96de4db8f11f",
       "version_major": 2,
       "version_minor": 0
      },
      "text/plain": [
       "  0%|          | 0/10 [00:00<?, ?it/s]"
      ]
     },
     "metadata": {},
     "output_type": "display_data"
    },
    {
     "data": {
      "application/vnd.jupyter.widget-view+json": {
       "model_id": "238c2d0fe5df4d7ba3182c788d082f62",
       "version_major": 2,
       "version_minor": 0
      },
      "text/plain": [
       "  0%|          | 0/10 [00:00<?, ?it/s]"
      ]
     },
     "metadata": {},
     "output_type": "display_data"
    },
    {
     "data": {
      "application/vnd.jupyter.widget-view+json": {
       "model_id": "24ccb2520db542748a3ab49ad05aae22",
       "version_major": 2,
       "version_minor": 0
      },
      "text/plain": [
       "  0%|          | 0/10 [00:00<?, ?it/s]"
      ]
     },
     "metadata": {},
     "output_type": "display_data"
    },
    {
     "data": {
      "application/vnd.jupyter.widget-view+json": {
       "model_id": "d34cb413f2a2467faf997c76072c499a",
       "version_major": 2,
       "version_minor": 0
      },
      "text/plain": [
       "  0%|          | 0/10 [00:00<?, ?it/s]"
      ]
     },
     "metadata": {},
     "output_type": "display_data"
    },
    {
     "data": {
      "application/vnd.jupyter.widget-view+json": {
       "model_id": "c87ade92d76e4e27ae04aff992c895df",
       "version_major": 2,
       "version_minor": 0
      },
      "text/plain": [
       "  0%|          | 0/10 [00:00<?, ?it/s]"
      ]
     },
     "metadata": {},
     "output_type": "display_data"
    },
    {
     "data": {
      "application/vnd.jupyter.widget-view+json": {
       "model_id": "0cf3eec2ac3f45fa80d506583d1b5dfd",
       "version_major": 2,
       "version_minor": 0
      },
      "text/plain": [
       "  0%|          | 0/10 [00:00<?, ?it/s]"
      ]
     },
     "metadata": {},
     "output_type": "display_data"
    },
    {
     "data": {
      "application/vnd.jupyter.widget-view+json": {
       "model_id": "1f62f570dc744226b1f50466eceed4dc",
       "version_major": 2,
       "version_minor": 0
      },
      "text/plain": [
       "  0%|          | 0/10 [00:00<?, ?it/s]"
      ]
     },
     "metadata": {},
     "output_type": "display_data"
    },
    {
     "data": {
      "application/vnd.jupyter.widget-view+json": {
       "model_id": "e85fb9897de4489d8a6aa2b90655d55c",
       "version_major": 2,
       "version_minor": 0
      },
      "text/plain": [
       "  0%|          | 0/10 [00:00<?, ?it/s]"
      ]
     },
     "metadata": {},
     "output_type": "display_data"
    },
    {
     "data": {
      "application/vnd.jupyter.widget-view+json": {
       "model_id": "70c5257032054369858c19a4c7b0cb22",
       "version_major": 2,
       "version_minor": 0
      },
      "text/plain": [
       "  0%|          | 0/10 [00:00<?, ?it/s]"
      ]
     },
     "metadata": {},
     "output_type": "display_data"
    },
    {
     "data": {
      "application/vnd.jupyter.widget-view+json": {
       "model_id": "04e162a6d9c84fffab8df7b1305ef33f",
       "version_major": 2,
       "version_minor": 0
      },
      "text/plain": [
       "  0%|          | 0/10 [00:00<?, ?it/s]"
      ]
     },
     "metadata": {},
     "output_type": "display_data"
    }
   ],
   "source": [
    "logloss_outer2 = []\n",
    "\n",
    "for dist in tqdm(np.linspace(1,20,10)):\n",
    "    logloss_inner2 = []\n",
    "    for defen in tqdm(np.linspace(.5,1.2,10), leave=False):\n",
    "        sample = np.random.permutation(len(train_pbp))[:1000]\n",
    "\n",
    "        train_probs = []\n",
    "        for game in sample:\n",
    "            train_probs.append(offReboundProb(coords[10*game: 10*(game + 1)], 2.5, 200, 50, defen, dist))\n",
    "        \n",
    "        logloss_inner2.append(log_loss(train_pbp.iloc[sample,1],train_probs))\n",
    "    logloss_outer2.append(logloss_inner2)"
   ]
  },
  {
   "cell_type": "markdown",
   "metadata": {},
   "source": [
    "Visualizing the log loss with a heatmap, we can see that the optimal values for the defense scale are in the middle, validating our range selection. There is not as clear a pattern for the distance scale, but with our selected value for the defense scale, the ideal distance parameter appears to be in the lower middle range. With that being said, we will be using 0.9 for the defense scale and 14 for the distance scale."
   ]
  },
  {
   "cell_type": "code",
   "execution_count": 734,
   "metadata": {},
   "outputs": [
    {
     "data": {
      "image/png": "[encoded data removed]",
      "text/plain": [
       "<Figure size 432x288 with 2 Axes>"
      ]
     },
     "metadata": {
      "needs_background": "light"
     },
     "output_type": "display_data"
    }
   ],
   "source": [
    "ax = sns.heatmap(logloss_outer2,xticklabels=np.round(np.linspace(.5,1.2,10),2),yticklabels=np.round(np.linspace(1,20,10)))\n",
    "ax.set(xlabel='Defense Scale', ylabel='Distance Scale');"
   ]
  },
  {
   "cell_type": "markdown",
   "metadata": {},
   "source": [
    "___\n",
    "\n",
    "<a id='section3'></a>\n",
    "\n",
    "## <a id='#section3'>4. Predictions</a>\n",
    "\n",
    "Finally, we will calculate our predictions on the test data and prepare it for submission."
   ]
  },
  {
   "cell_type": "code",
   "execution_count": 735,
   "metadata": {},
   "outputs": [
    {
     "data": {
      "application/vnd.jupyter.widget-view+json": {
       "model_id": "1eaeaad00e49457c9f5620e80d2126ab",
       "version_major": 2,
       "version_minor": 0
      },
      "text/plain": [
       "  0%|          | 0/13202 [00:00<?, ?it/s]"
      ]
     },
     "metadata": {},
     "output_type": "display_data"
    }
   ],
   "source": [
    "test_coords = test_locs.coords.to_list()\n",
    "probs_test = []\n",
    "\n",
    "for game in tqdm(range(len(test_pbp.index))):\n",
    "    probs_test.append(offReboundProb(test_coords[10*game: 10*(game + 1)],beta=2.5,x_scale=200,y_scale=50,def_scale=0.9,dist_scale=14))"
   ]
  },
  {
   "cell_type": "markdown",
   "metadata": {},
   "source": [
    "___\n",
    "Log loss for training data"
   ]
  },
  {
   "cell_type": "code",
   "execution_count": 736,
   "metadata": {},
   "outputs": [
    {
     "data": {
      "application/vnd.jupyter.widget-view+json": {
       "model_id": "8b1bbafd571543a4893de83203102e58",
       "version_major": 2,
       "version_minor": 0
      },
      "text/plain": [
       "  0%|          | 0/30805 [00:00<?, ?it/s]"
      ]
     },
     "metadata": {},
     "output_type": "display_data"
    }
   ],
   "source": [
    "probs = []\n",
    "\n",
    "for game in tqdm(range(len(train_pbp.index))):\n",
    "    probs.append(offReboundProb(coords[10*game: 10*(game + 1)],beta=2.5,x_scale=200,y_scale=50,def_scale=0.9,dist_scale=14))"
   ]
  },
  {
   "cell_type": "code",
   "execution_count": 737,
   "metadata": {},
   "outputs": [
    {
     "data": {
      "text/plain": [
       "0.584869929489473"
      ]
     },
     "execution_count": 737,
     "metadata": {},
     "output_type": "execute_result"
    }
   ],
   "source": [
    "log_loss(train_pbp.is_oreb,probs)"
   ]
  },
  {
   "cell_type": "markdown",
   "metadata": {},
   "source": [
    "___"
   ]
  },
  {
   "cell_type": "code",
   "execution_count": 738,
   "metadata": {},
   "outputs": [
    {
     "data": {
      "text/html": [
       "<div>\n",
       "<style scoped>\n",
       "    .dataframe tbody tr th:only-of-type {\n",
       "        vertical-align: middle;\n",
       "    }\n",
       "\n",
       "    .dataframe tbody tr th {\n",
       "        vertical-align: top;\n",
       "    }\n",
       "\n",
       "    .dataframe thead th {\n",
       "        text-align: right;\n",
       "    }\n",
       "</style>\n",
       "<table border=\"1\" class=\"dataframe\">\n",
       "  <thead>\n",
       "    <tr style=\"text-align: right;\">\n",
       "      <th></th>\n",
       "      <th>id</th>\n",
       "      <th>pred</th>\n",
       "    </tr>\n",
       "  </thead>\n",
       "  <tbody>\n",
       "    <tr>\n",
       "      <th>0</th>\n",
       "      <td>2790-2</td>\n",
       "      <td>0.267345</td>\n",
       "    </tr>\n",
       "    <tr>\n",
       "      <th>1</th>\n",
       "      <td>4712-4</td>\n",
       "      <td>0.184448</td>\n",
       "    </tr>\n",
       "    <tr>\n",
       "      <th>2</th>\n",
       "      <td>2094-2</td>\n",
       "      <td>0.286864</td>\n",
       "    </tr>\n",
       "    <tr>\n",
       "      <th>3</th>\n",
       "      <td>4956-9</td>\n",
       "      <td>0.145611</td>\n",
       "    </tr>\n",
       "    <tr>\n",
       "      <th>4</th>\n",
       "      <td>2135-5</td>\n",
       "      <td>0.284619</td>\n",
       "    </tr>\n",
       "    <tr>\n",
       "      <th>...</th>\n",
       "      <td>...</td>\n",
       "      <td>...</td>\n",
       "    </tr>\n",
       "    <tr>\n",
       "      <th>13197</th>\n",
       "      <td>4525-7</td>\n",
       "      <td>0.232074</td>\n",
       "    </tr>\n",
       "    <tr>\n",
       "      <th>13198</th>\n",
       "      <td>5006-9</td>\n",
       "      <td>0.296029</td>\n",
       "    </tr>\n",
       "    <tr>\n",
       "      <th>13199</th>\n",
       "      <td>4737-6</td>\n",
       "      <td>0.355004</td>\n",
       "    </tr>\n",
       "    <tr>\n",
       "      <th>13200</th>\n",
       "      <td>390-3</td>\n",
       "      <td>0.193992</td>\n",
       "    </tr>\n",
       "    <tr>\n",
       "      <th>13201</th>\n",
       "      <td>607-3</td>\n",
       "      <td>0.292070</td>\n",
       "    </tr>\n",
       "  </tbody>\n",
       "</table>\n",
       "<p>13202 rows × 2 columns</p>\n",
       "</div>"
      ],
      "text/plain": [
       "           id      pred\n",
       "0      2790-2  0.267345\n",
       "1      4712-4  0.184448\n",
       "2      2094-2  0.286864\n",
       "3      4956-9  0.145611\n",
       "4      2135-5  0.284619\n",
       "...       ...       ...\n",
       "13197  4525-7  0.232074\n",
       "13198  5006-9  0.296029\n",
       "13199  4737-6  0.355004\n",
       "13200   390-3  0.193992\n",
       "13201   607-3  0.292070\n",
       "\n",
       "[13202 rows x 2 columns]"
      ]
     },
     "execution_count": 738,
     "metadata": {},
     "output_type": "execute_result"
    }
   ],
   "source": [
    "sub = pd.DataFrame(test_pbp.id)\n",
    "sub['pred'] = probs_test\n",
    "sub = sub.sort_index()\n",
    "sub"
   ]
  },
  {
   "cell_type": "code",
   "execution_count": 739,
   "metadata": {},
   "outputs": [],
   "source": [
    "sub.to_csv('submission.csv', index=False)"
   ]
  }
 ],
 "metadata": {
  "kernelspec": {
   "display_name": "Python 3.9.6 64-bit",
   "language": "python",
   "name": "python3"
  },
  "language_info": {
   "codemirror_mode": {
    "name": "ipython",
    "version": 3
   },
   "file_extension": ".py",
   "mimetype": "text/x-python",
   "name": "python",
   "nbconvert_exporter": "python",
   "pygments_lexer": "ipython3",
   "version": "3.9.6"
  },
  "orig_nbformat": 4,
  "vscode": {
   "interpreter": {
    "hash": "af12f3811b3d98517c92320a45b3ea2fc607433d60ddfc1a732b8e45799b53c8"
   }
  }
 },
 "nbformat": 4,
 "nbformat_minor": 2
}
